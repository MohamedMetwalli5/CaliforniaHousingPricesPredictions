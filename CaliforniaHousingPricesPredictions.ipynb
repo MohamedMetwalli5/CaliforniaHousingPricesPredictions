{
  "nbformat": 4,
  "nbformat_minor": 0,
  "metadata": {
    "colab": {
      "name": "CaliforniaHousingPricesPredictions.ipynb",
      "provenance": [],
      "collapsed_sections": []
    },
    "kernelspec": {
      "name": "python3",
      "display_name": "Python 3"
    },
    "language_info": {
      "name": "python"
    }
  },
  "cells": [
    {
      "cell_type": "code",
      "metadata": {
        "id": "DdEZjiNr-hbu"
      },
      "source": [
        "import pandas as pd\n",
        "from sklearn.metrics import mean_absolute_error\n",
        "from sklearn.ensemble import RandomForestRegressor\n",
        "from sklearn.model_selection import train_test_split"
      ],
      "execution_count": 59,
      "outputs": []
    },
    {
      "cell_type": "code",
      "metadata": {
        "colab": {
          "base_uri": "https://localhost:8080/"
        },
        "id": "RTRgsWiKdDCK",
        "outputId": "b1fc1c92-8470-4adf-ead4-141583fa4830"
      },
      "source": [
        "houses_file_path = '/content/Data/housing.csv'\n",
        "housing_data = pd.read_csv(houses_file_path)\n",
        "\n",
        "features = ['longitude','latitude','housing_median_age','total_rooms','total_bedrooms','population','households','median_income']\n",
        "\n",
        "X = housing_data[features]\n",
        "X.head(5)\n",
        "\n",
        "y = housing_data.median_house_value\n",
        "\n",
        "train_X, val_X, train_y, val_y = train_test_split(X, y, random_state=1)\n",
        "train_X.fillna(train_X.mean(), inplace=True)\n",
        "train_y.fillna(train_y.mean(), inplace=True)\n",
        "val_X.fillna(val_X.mean(), inplace=True)\n",
        "val_y.fillna(val_y.mean(), inplace=True)\n"
      ],
      "execution_count": 60,
      "outputs": []
    },
    {
      "cell_type": "code",
      "metadata": {
        "id": "zQ0y_29iZyLo"
      },
      "source": [
        "rf_model = RandomForestRegressor(random_state=1)\n",
        "rf_model.fit(train_X, train_y)\n",
        "rf_val_predictions = rf_model.predict(val_X)\n",
        "rf_val_mae = mean_absolute_error(rf_val_predictions, val_y)"
      ],
      "execution_count": 61,
      "outputs": []
    },
    {
      "cell_type": "code",
      "metadata": {
        "id": "BGsTXi2aeDMx"
      },
      "source": [
        "output = pd.DataFrame({'longitude': val_X.longitude,'latitude': val_X.latitude,'housing_median_age':val_X.housing_median_age,'total_rooms':val_X.total_rooms,'total_bedrooms':val_X.total_bedrooms,'population':val_X.population,'households':val_X.households ,'median_income':val_X.median_income,\n",
        "                       'median_house_value': val_y})\n",
        "output.to_csv('FinalResults.csv', index=False)"
      ],
      "execution_count": 62,
      "outputs": []
    }
  ]
}
